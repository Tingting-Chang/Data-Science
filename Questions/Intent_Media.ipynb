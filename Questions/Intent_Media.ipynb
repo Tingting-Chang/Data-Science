{
 "cells": [
  {
   "cell_type": "code",
   "execution_count": 72,
   "metadata": {
    "collapsed": true
   },
   "outputs": [],
   "source": [
    "import pandas as pd"
   ]
  },
  {
   "cell_type": "code",
   "execution_count": 73,
   "metadata": {
    "collapsed": false
   },
   "outputs": [
    {
     "data": {
      "text/html": [
       "<div>\n",
       "<table border=\"1\" class=\"dataframe\">\n",
       "  <thead>\n",
       "    <tr style=\"text-align: right;\">\n",
       "      <th></th>\n",
       "      <th>browser_family</th>\n",
       "      <th>device_family</th>\n",
       "      <th>site_country</th>\n",
       "      <th>site_id</th>\n",
       "      <th>ad_calls</th>\n",
       "      <th>served_ad_calls</th>\n",
       "      <th>impressions</th>\n",
       "      <th>clicks</th>\n",
       "      <th>revenue</th>\n",
       "      <th>date</th>\n",
       "    </tr>\n",
       "  </thead>\n",
       "  <tbody>\n",
       "    <tr>\n",
       "      <th>0</th>\n",
       "      <td>CHROME</td>\n",
       "      <td>COMPUTER</td>\n",
       "      <td>US</td>\n",
       "      <td>1</td>\n",
       "      <td>167844</td>\n",
       "      <td>30763</td>\n",
       "      <td>208775</td>\n",
       "      <td>43604</td>\n",
       "      <td>4550.05</td>\n",
       "      <td>1/14/15</td>\n",
       "    </tr>\n",
       "    <tr>\n",
       "      <th>1</th>\n",
       "      <td>CHROME</td>\n",
       "      <td>COMPUTER</td>\n",
       "      <td>US</td>\n",
       "      <td>1</td>\n",
       "      <td>177509</td>\n",
       "      <td>31910</td>\n",
       "      <td>216065</td>\n",
       "      <td>43970</td>\n",
       "      <td>4494.44</td>\n",
       "      <td>1/13/15</td>\n",
       "    </tr>\n",
       "    <tr>\n",
       "      <th>2</th>\n",
       "      <td>CHROME</td>\n",
       "      <td>COMPUTER</td>\n",
       "      <td>US</td>\n",
       "      <td>1</td>\n",
       "      <td>171702</td>\n",
       "      <td>29294</td>\n",
       "      <td>200012</td>\n",
       "      <td>43292</td>\n",
       "      <td>4488.31</td>\n",
       "      <td>1/12/15</td>\n",
       "    </tr>\n",
       "    <tr>\n",
       "      <th>3</th>\n",
       "      <td>CHROME</td>\n",
       "      <td>COMPUTER</td>\n",
       "      <td>US</td>\n",
       "      <td>1</td>\n",
       "      <td>156701</td>\n",
       "      <td>28203</td>\n",
       "      <td>191438</td>\n",
       "      <td>40292</td>\n",
       "      <td>4216.71</td>\n",
       "      <td>1/15/15</td>\n",
       "    </tr>\n",
       "    <tr>\n",
       "      <th>4</th>\n",
       "      <td>CHROME</td>\n",
       "      <td>COMPUTER</td>\n",
       "      <td>US</td>\n",
       "      <td>1</td>\n",
       "      <td>136944</td>\n",
       "      <td>23680</td>\n",
       "      <td>161188</td>\n",
       "      <td>34044</td>\n",
       "      <td>3635.49</td>\n",
       "      <td>1/9/15</td>\n",
       "    </tr>\n",
       "  </tbody>\n",
       "</table>\n",
       "</div>"
      ],
      "text/plain": [
       "  browser_family device_family site_country  site_id  ad_calls  \\\n",
       "0         CHROME      COMPUTER           US        1    167844   \n",
       "1         CHROME      COMPUTER           US        1    177509   \n",
       "2         CHROME      COMPUTER           US        1    171702   \n",
       "3         CHROME      COMPUTER           US        1    156701   \n",
       "4         CHROME      COMPUTER           US        1    136944   \n",
       "\n",
       "   served_ad_calls  impressions  clicks  revenue     date  \n",
       "0            30763       208775   43604  4550.05  1/14/15  \n",
       "1            31910       216065   43970  4494.44  1/13/15  \n",
       "2            29294       200012   43292  4488.31  1/12/15  \n",
       "3            28203       191438   40292  4216.71  1/15/15  \n",
       "4            23680       161188   34044  3635.49   1/9/15  "
      ]
     },
     "execution_count": 73,
     "metadata": {},
     "output_type": "execute_result"
    }
   ],
   "source": [
    "data = pd.read_csv('sample_data.csv')\n",
    "data.head(5)"
   ]
  },
  {
   "cell_type": "code",
   "execution_count": 74,
   "metadata": {
    "collapsed": false
   },
   "outputs": [
    {
     "data": {
      "text/html": [
       "<div>\n",
       "<table border=\"1\" class=\"dataframe\">\n",
       "  <thead>\n",
       "    <tr style=\"text-align: right;\">\n",
       "      <th></th>\n",
       "      <th>site_id</th>\n",
       "      <th>ad_calls</th>\n",
       "      <th>served_ad_calls</th>\n",
       "      <th>impressions</th>\n",
       "      <th>clicks</th>\n",
       "      <th>revenue</th>\n",
       "    </tr>\n",
       "  </thead>\n",
       "  <tbody>\n",
       "    <tr>\n",
       "      <th>count</th>\n",
       "      <td>24302.000000</td>\n",
       "      <td>24302.000000</td>\n",
       "      <td>24302.000000</td>\n",
       "      <td>24302.000000</td>\n",
       "      <td>24302.000000</td>\n",
       "      <td>24302.000000</td>\n",
       "    </tr>\n",
       "    <tr>\n",
       "      <th>mean</th>\n",
       "      <td>2.081475</td>\n",
       "      <td>415.423833</td>\n",
       "      <td>189.190848</td>\n",
       "      <td>1101.200395</td>\n",
       "      <td>97.469632</td>\n",
       "      <td>13.259840</td>\n",
       "    </tr>\n",
       "    <tr>\n",
       "      <th>std</th>\n",
       "      <td>1.456736</td>\n",
       "      <td>3821.685945</td>\n",
       "      <td>1415.472335</td>\n",
       "      <td>8695.117407</td>\n",
       "      <td>899.519820</td>\n",
       "      <td>105.823421</td>\n",
       "    </tr>\n",
       "    <tr>\n",
       "      <th>min</th>\n",
       "      <td>0.000000</td>\n",
       "      <td>0.000000</td>\n",
       "      <td>0.000000</td>\n",
       "      <td>0.000000</td>\n",
       "      <td>0.000000</td>\n",
       "      <td>0.000000</td>\n",
       "    </tr>\n",
       "    <tr>\n",
       "      <th>25%</th>\n",
       "      <td>1.000000</td>\n",
       "      <td>1.000000</td>\n",
       "      <td>0.000000</td>\n",
       "      <td>0.000000</td>\n",
       "      <td>0.000000</td>\n",
       "      <td>0.000000</td>\n",
       "    </tr>\n",
       "    <tr>\n",
       "      <th>50%</th>\n",
       "      <td>2.000000</td>\n",
       "      <td>5.000000</td>\n",
       "      <td>1.000000</td>\n",
       "      <td>4.000000</td>\n",
       "      <td>0.000000</td>\n",
       "      <td>0.000000</td>\n",
       "    </tr>\n",
       "    <tr>\n",
       "      <th>75%</th>\n",
       "      <td>3.000000</td>\n",
       "      <td>51.000000</td>\n",
       "      <td>13.000000</td>\n",
       "      <td>57.000000</td>\n",
       "      <td>5.000000</td>\n",
       "      <td>0.660000</td>\n",
       "    </tr>\n",
       "    <tr>\n",
       "      <th>max</th>\n",
       "      <td>4.000000</td>\n",
       "      <td>177509.000000</td>\n",
       "      <td>56798.000000</td>\n",
       "      <td>340065.000000</td>\n",
       "      <td>43970.000000</td>\n",
       "      <td>4550.050000</td>\n",
       "    </tr>\n",
       "  </tbody>\n",
       "</table>\n",
       "</div>"
      ],
      "text/plain": [
       "            site_id       ad_calls  served_ad_calls    impressions  \\\n",
       "count  24302.000000   24302.000000     24302.000000   24302.000000   \n",
       "mean       2.081475     415.423833       189.190848    1101.200395   \n",
       "std        1.456736    3821.685945      1415.472335    8695.117407   \n",
       "min        0.000000       0.000000         0.000000       0.000000   \n",
       "25%        1.000000       1.000000         0.000000       0.000000   \n",
       "50%        2.000000       5.000000         1.000000       4.000000   \n",
       "75%        3.000000      51.000000        13.000000      57.000000   \n",
       "max        4.000000  177509.000000     56798.000000  340065.000000   \n",
       "\n",
       "             clicks       revenue  \n",
       "count  24302.000000  24302.000000  \n",
       "mean      97.469632     13.259840  \n",
       "std      899.519820    105.823421  \n",
       "min        0.000000      0.000000  \n",
       "25%        0.000000      0.000000  \n",
       "50%        0.000000      0.000000  \n",
       "75%        5.000000      0.660000  \n",
       "max    43970.000000   4550.050000  "
      ]
     },
     "execution_count": 74,
     "metadata": {},
     "output_type": "execute_result"
    }
   ],
   "source": [
    "data.describe()"
   ]
  },
  {
   "cell_type": "code",
   "execution_count": 75,
   "metadata": {
    "collapsed": false
   },
   "outputs": [
    {
     "name": "stderr",
     "output_type": "stream",
     "text": [
      "/Applications/anaconda/lib/python2.7/site-packages/ipykernel/__main__.py:1: FutureWarning: sort(columns=....) is deprecated, use sort_values(by=.....)\n",
      "  if __name__ == '__main__':\n"
     ]
    },
    {
     "data": {
      "text/html": [
       "<div>\n",
       "<table border=\"1\" class=\"dataframe\">\n",
       "  <thead>\n",
       "    <tr style=\"text-align: right;\">\n",
       "      <th></th>\n",
       "      <th>max</th>\n",
       "    </tr>\n",
       "  </thead>\n",
       "  <tbody>\n",
       "    <tr>\n",
       "      <th>3</th>\n",
       "      <td>679.22</td>\n",
       "    </tr>\n",
       "    <tr>\n",
       "      <th>0</th>\n",
       "      <td>996.19</td>\n",
       "    </tr>\n",
       "    <tr>\n",
       "      <th>2</th>\n",
       "      <td>1637.66</td>\n",
       "    </tr>\n",
       "    <tr>\n",
       "      <th>4</th>\n",
       "      <td>1782.91</td>\n",
       "    </tr>\n",
       "    <tr>\n",
       "      <th>1</th>\n",
       "      <td>4550.05</td>\n",
       "    </tr>\n",
       "  </tbody>\n",
       "</table>\n",
       "</div>"
      ],
      "text/plain": [
       "       max\n",
       "3   679.22\n",
       "0   996.19\n",
       "2  1637.66\n",
       "4  1782.91\n",
       "1  4550.05"
      ]
     },
     "execution_count": 75,
     "metadata": {},
     "output_type": "execute_result"
    }
   ],
   "source": [
    "data.groupby(['site_id'])['revenue'].agg(['max'])\\\n",
    "    .reset_index(drop=True).sort('max')\n",
    "    \n",
    "# site 1 has the best revenue"
   ]
  },
  {
   "cell_type": "code",
   "execution_count": 76,
   "metadata": {
    "collapsed": false
   },
   "outputs": [
    {
     "data": {
      "text/html": [
       "<div>\n",
       "<table border=\"1\" class=\"dataframe\">\n",
       "  <thead>\n",
       "    <tr style=\"text-align: right;\">\n",
       "      <th></th>\n",
       "      <th>total_click</th>\n",
       "      <th>total_impression</th>\n",
       "      <th>click_rate</th>\n",
       "    </tr>\n",
       "  </thead>\n",
       "  <tbody>\n",
       "    <tr>\n",
       "      <th>0</th>\n",
       "      <td>380146</td>\n",
       "      <td>2532513</td>\n",
       "      <td>0.150106</td>\n",
       "    </tr>\n",
       "    <tr>\n",
       "      <th>1</th>\n",
       "      <td>664100</td>\n",
       "      <td>5627671</td>\n",
       "      <td>0.118006</td>\n",
       "    </tr>\n",
       "    <tr>\n",
       "      <th>2</th>\n",
       "      <td>447441</td>\n",
       "      <td>4825389</td>\n",
       "      <td>0.092726</td>\n",
       "    </tr>\n",
       "    <tr>\n",
       "      <th>3</th>\n",
       "      <td>362851</td>\n",
       "      <td>7528667</td>\n",
       "      <td>0.048196</td>\n",
       "    </tr>\n",
       "    <tr>\n",
       "      <th>4</th>\n",
       "      <td>514169</td>\n",
       "      <td>6247132</td>\n",
       "      <td>0.082305</td>\n",
       "    </tr>\n",
       "  </tbody>\n",
       "</table>\n",
       "</div>"
      ],
      "text/plain": [
       "   total_click  total_impression  click_rate\n",
       "0       380146           2532513    0.150106\n",
       "1       664100           5627671    0.118006\n",
       "2       447441           4825389    0.092726\n",
       "3       362851           7528667    0.048196\n",
       "4       514169           6247132    0.082305"
      ]
     },
     "execution_count": 76,
     "metadata": {},
     "output_type": "execute_result"
    }
   ],
   "source": [
    "click_df = pd.concat([data.groupby(['site_id'])['clicks'].agg({'total_click': 'sum'})\\\n",
    "    .reset_index(drop=True), data.groupby(['site_id'])['impressions'].agg({'total_impression': 'sum'})\\\n",
    "    .reset_index(drop=True)], axis=1)\n",
    "\n",
    "click_df['click_rate'] = click_df['total_click'] / click_df['total_impression']\n",
    "click_df\n",
    "\n",
    "# the clicks / impressions for site 1 is 0.150106"
   ]
  },
  {
   "cell_type": "code",
   "execution_count": 77,
   "metadata": {
    "collapsed": false
   },
   "outputs": [
    {
     "data": {
      "text/html": [
       "<div>\n",
       "<table border=\"1\" class=\"dataframe\">\n",
       "  <thead>\n",
       "    <tr style=\"text-align: right;\">\n",
       "      <th></th>\n",
       "      <th>total_click</th>\n",
       "      <th>total_impression</th>\n",
       "      <th>rev_click_rate</th>\n",
       "    </tr>\n",
       "  </thead>\n",
       "  <tbody>\n",
       "    <tr>\n",
       "      <th>0</th>\n",
       "      <td>380146</td>\n",
       "      <td>53709.70</td>\n",
       "      <td>7.077790</td>\n",
       "    </tr>\n",
       "    <tr>\n",
       "      <th>1</th>\n",
       "      <td>664100</td>\n",
       "      <td>81060.41</td>\n",
       "      <td>8.192655</td>\n",
       "    </tr>\n",
       "    <tr>\n",
       "      <th>2</th>\n",
       "      <td>447441</td>\n",
       "      <td>59559.11</td>\n",
       "      <td>7.512553</td>\n",
       "    </tr>\n",
       "    <tr>\n",
       "      <th>3</th>\n",
       "      <td>362851</td>\n",
       "      <td>49861.95</td>\n",
       "      <td>7.277112</td>\n",
       "    </tr>\n",
       "    <tr>\n",
       "      <th>4</th>\n",
       "      <td>514169</td>\n",
       "      <td>78049.46</td>\n",
       "      <td>6.587733</td>\n",
       "    </tr>\n",
       "  </tbody>\n",
       "</table>\n",
       "</div>"
      ],
      "text/plain": [
       "   total_click  total_impression  rev_click_rate\n",
       "0       380146          53709.70        7.077790\n",
       "1       664100          81060.41        8.192655\n",
       "2       447441          59559.11        7.512553\n",
       "3       362851          49861.95        7.277112\n",
       "4       514169          78049.46        6.587733"
      ]
     },
     "execution_count": 77,
     "metadata": {},
     "output_type": "execute_result"
    }
   ],
   "source": [
    "customer_df = pd.concat([data.groupby(['site_id'])['clicks'].agg({'total_click': 'sum'})\\\n",
    "    .reset_index(drop=True), data.groupby(['site_id'])['revenue'].agg({'total_impression': 'sum'})\\\n",
    "    .reset_index(drop=True)], axis=1)\n",
    "\n",
    "customer_df['rev_click_rate'] = customer_df['total_click'] / customer_df['total_impression']\n",
    "customer_df\n",
    "\n",
    "# revenue / clicks = 8.192655 for site 1"
   ]
  },
  {
   "cell_type": "code",
   "execution_count": 78,
   "metadata": {
    "collapsed": false
   },
   "outputs": [
    {
     "data": {
      "text/html": [
       "<div>\n",
       "<table border=\"1\" class=\"dataframe\">\n",
       "  <thead>\n",
       "    <tr style=\"text-align: right;\">\n",
       "      <th></th>\n",
       "      <th>total_revenue</th>\n",
       "    </tr>\n",
       "    <tr>\n",
       "      <th>site_id</th>\n",
       "      <th></th>\n",
       "    </tr>\n",
       "  </thead>\n",
       "  <tbody>\n",
       "    <tr>\n",
       "      <th>0</th>\n",
       "      <td>53709.70</td>\n",
       "    </tr>\n",
       "    <tr>\n",
       "      <th>1</th>\n",
       "      <td>81060.41</td>\n",
       "    </tr>\n",
       "    <tr>\n",
       "      <th>2</th>\n",
       "      <td>59559.11</td>\n",
       "    </tr>\n",
       "    <tr>\n",
       "      <th>3</th>\n",
       "      <td>49861.95</td>\n",
       "    </tr>\n",
       "    <tr>\n",
       "      <th>4</th>\n",
       "      <td>78049.46</td>\n",
       "    </tr>\n",
       "  </tbody>\n",
       "</table>\n",
       "</div>"
      ],
      "text/plain": [
       "         total_revenue\n",
       "site_id               \n",
       "0             53709.70\n",
       "1             81060.41\n",
       "2             59559.11\n",
       "3             49861.95\n",
       "4             78049.46"
      ]
     },
     "execution_count": 78,
     "metadata": {},
     "output_type": "execute_result"
    }
   ],
   "source": [
    "data.groupby(['site_id'])['revenue'].agg({'total_revenue': 'sum'})\n",
    "\n",
    "# total revenue for site 1 is 81060.41"
   ]
  },
  {
   "cell_type": "code",
   "execution_count": 84,
   "metadata": {
    "collapsed": false
   },
   "outputs": [
    {
     "data": {
      "text/plain": [
       "device_family\n",
       "COMPUTER        2069\n",
       "DMR               12\n",
       "GAME_CONSOLE      69\n",
       "MOBILE          1071\n",
       "TABLET          1121\n",
       "UNKNOWN          145\n",
       "Name: device_family, dtype: int64"
      ]
     },
     "execution_count": 84,
     "metadata": {},
     "output_type": "execute_result"
    }
   ],
   "source": [
    "data[data['site_id'] == 1].groupby('device_family')['device_family']\\\n",
    "    .agg('count')"
   ]
  },
  {
   "cell_type": "code",
   "execution_count": 79,
   "metadata": {
    "collapsed": false
   },
   "outputs": [
    {
     "data": {
      "text/html": [
       "<div>\n",
       "<table border=\"1\" class=\"dataframe\">\n",
       "  <thead>\n",
       "    <tr style=\"text-align: right;\">\n",
       "      <th></th>\n",
       "      <th>ad_calls</th>\n",
       "      <th>served_ad_calls</th>\n",
       "      <th>impressions</th>\n",
       "      <th>clicks</th>\n",
       "      <th>revenue</th>\n",
       "    </tr>\n",
       "    <tr>\n",
       "      <th>site_id</th>\n",
       "      <th></th>\n",
       "      <th></th>\n",
       "      <th></th>\n",
       "      <th></th>\n",
       "      <th></th>\n",
       "    </tr>\n",
       "  </thead>\n",
       "  <tbody>\n",
       "    <tr>\n",
       "      <th>0</th>\n",
       "      <td>672391</td>\n",
       "      <td>421369</td>\n",
       "      <td>2532513</td>\n",
       "      <td>380146</td>\n",
       "      <td>53709.70</td>\n",
       "    </tr>\n",
       "    <tr>\n",
       "      <th>1</th>\n",
       "      <td>4288102</td>\n",
       "      <td>931252</td>\n",
       "      <td>5627671</td>\n",
       "      <td>664100</td>\n",
       "      <td>81060.41</td>\n",
       "    </tr>\n",
       "    <tr>\n",
       "      <th>2</th>\n",
       "      <td>1416486</td>\n",
       "      <td>859264</td>\n",
       "      <td>4825389</td>\n",
       "      <td>447441</td>\n",
       "      <td>59559.11</td>\n",
       "    </tr>\n",
       "    <tr>\n",
       "      <th>3</th>\n",
       "      <td>2106378</td>\n",
       "      <td>1318667</td>\n",
       "      <td>7528667</td>\n",
       "      <td>362851</td>\n",
       "      <td>49861.95</td>\n",
       "    </tr>\n",
       "    <tr>\n",
       "      <th>4</th>\n",
       "      <td>1612273</td>\n",
       "      <td>1067164</td>\n",
       "      <td>6247132</td>\n",
       "      <td>514169</td>\n",
       "      <td>78049.46</td>\n",
       "    </tr>\n",
       "  </tbody>\n",
       "</table>\n",
       "</div>"
      ],
      "text/plain": [
       "         ad_calls  served_ad_calls  impressions  clicks   revenue\n",
       "site_id                                                          \n",
       "0          672391           421369      2532513  380146  53709.70\n",
       "1         4288102           931252      5627671  664100  81060.41\n",
       "2         1416486           859264      4825389  447441  59559.11\n",
       "3         2106378          1318667      7528667  362851  49861.95\n",
       "4         1612273          1067164      6247132  514169  78049.46"
      ]
     },
     "execution_count": 79,
     "metadata": {},
     "output_type": "execute_result"
    }
   ],
   "source": [
    "data.groupby('site_id').agg('sum')"
   ]
  },
  {
   "cell_type": "code",
   "execution_count": null,
   "metadata": {
    "collapsed": true
   },
   "outputs": [],
   "source": []
  },
  {
   "cell_type": "code",
   "execution_count": null,
   "metadata": {
    "collapsed": true
   },
   "outputs": [],
   "source": [
    "# from the table we can see that the best site 1 has the most add_calls,\n",
    "# clicks, revenue. I believe the first improvement can make is add more ad_calls\n"
   ]
  }
 ],
 "metadata": {
  "anaconda-cloud": {},
  "kernelspec": {
   "display_name": "Python [conda root]",
   "language": "python",
   "name": "conda-root-py"
  },
  "language_info": {
   "codemirror_mode": {
    "name": "ipython",
    "version": 2
   },
   "file_extension": ".py",
   "mimetype": "text/x-python",
   "name": "python",
   "nbconvert_exporter": "python",
   "pygments_lexer": "ipython2",
   "version": "2.7.12"
  }
 },
 "nbformat": 4,
 "nbformat_minor": 2
}
